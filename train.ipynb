{
 "cells": [
  {
   "cell_type": "code",
   "execution_count": 3,
   "id": "1210ed30",
   "metadata": {},
   "outputs": [],
   "source": [
    "import wandb\n",
    "\n",
    "import torch\n",
    "import torch.nn as nn\n",
    "from gymnasium import spaces\n",
    "from qiskit.transpiler import CouplingMap\n",
    "from stable_baselines3 import PPO\n",
    "from stable_baselines3.common.torch_layers import BaseFeaturesExtractor\n",
    "\n",
    "from ai_linear_function_synthesis.env import *"
   ]
  },
  {
   "cell_type": "code",
   "execution_count": 4,
   "id": "b305eb35",
   "metadata": {},
   "outputs": [
    {
     "name": "stdout",
     "output_type": "stream",
     "text": [
      "device_name: cuda\n"
     ]
    }
   ],
   "source": [
    "NUM_QUBITS = 5\n",
    "COUPLING_MAP = CouplingMap.from_line(NUM_QUBITS)\n",
    "BATCH_SIZE = 100\n",
    "SUCCESS_RATE_THRESHOLD = 0.8\n",
    "\n",
    "model_class = PPO\n",
    "NUM_TIME_STEPS = 5 * 10**5\n",
    "\n",
    "config = {\n",
    "    \"num_qubits\": NUM_QUBITS,\n",
    "    \"coupling_map\": COUPLING_MAP,\n",
    "    \"eval_batch_size\": BATCH_SIZE,\n",
    "    \"success_rate_threshold\": SUCCESS_RATE_THRESHOLD,\n",
    "    \"model_class\": model_class.__name__,\n",
    "    \"num_time_steps\": NUM_TIME_STEPS,\n",
    "}\n",
    "\n",
    "device_name = \"cpu\"\n",
    "if torch.cuda.is_available():\n",
    "    device_name = \"cuda\"\n",
    "if torch.backends.mps.is_available():\n",
    "    device_name = \"mps\"\n",
    "print(f\"device_name: {device_name}\")"
   ]
  },
  {
   "cell_type": "code",
   "execution_count": 5,
   "id": "9df4c46c",
   "metadata": {},
   "outputs": [],
   "source": [
    "class CustomCNN(BaseFeaturesExtractor):\n",
    "    \"\"\"\n",
    "    ref: stable-baselines3 documentation & https://github.com/greentfrapp/snake\n",
    "    :param observation_space: (gym.Space)\n",
    "    :param features_dim: (int) Number of features extracted.\n",
    "        This corresponds to the number of unit for the last layer.\n",
    "    \"\"\"\n",
    "\n",
    "    def __init__(self, observation_space: spaces.Box, features_dim: int = 64):\n",
    "        super().__init__(observation_space, features_dim)\n",
    "        # We assume CxHxW images (channels first)\n",
    "        # Re-ordering will be done by pre-preprocessing or wrapper\n",
    "        n_input_channels = observation_space.shape[0]\n",
    "\n",
    "        self.cnn = nn.Sequential(\n",
    "            nn.Conv2d(n_input_channels, 32, kernel_size=3, stride=1, padding=1),\n",
    "            nn.ReLU(),\n",
    "            nn.Flatten(),\n",
    "        )\n",
    "\n",
    "        # Compute shape by doing one forward pass\n",
    "        with torch.no_grad():\n",
    "            n_flatten = self.cnn(\n",
    "                torch.as_tensor(observation_space.sample()[None]).float()\n",
    "            ).shape[1]\n",
    "\n",
    "        self.linear = nn.Sequential(\n",
    "            nn.Linear(n_flatten, features_dim),\n",
    "            nn.ReLU(),\n",
    "            nn.Linear(features_dim, features_dim),\n",
    "            nn.ReLU(),\n",
    "        )\n",
    "\n",
    "        self.apply(self._init_weights)\n",
    "\n",
    "    def _init_weights(self, module):\n",
    "        if isinstance(module, (nn.Linear, nn.Conv2d)):\n",
    "            torch.nn.init.xavier_uniform_(module.weight)\n",
    "            if module.bias is not None:\n",
    "                module.bias.data.zero_()\n",
    "\n",
    "    def forward(self, observations: torch.Tensor) -> torch.Tensor:\n",
    "        return self.linear(self.cnn(observations))"
   ]
  },
  {
   "cell_type": "markdown",
   "id": "d0ca0897",
   "metadata": {},
   "source": [
    "## Curriculum learning + sparse reward"
   ]
  },
  {
   "cell_type": "code",
   "execution_count": 6,
   "id": "1b623307",
   "metadata": {},
   "outputs": [
    {
     "name": "stderr",
     "output_type": "stream",
     "text": [
      "\u001b[34m\u001b[1mwandb\u001b[0m: Currently logged in as: \u001b[33mking-p3nguin\u001b[0m (\u001b[33mking-p3nguin-The University of Tokyo\u001b[0m) to \u001b[32mhttps://api.wandb.ai\u001b[0m. Use \u001b[1m`wandb login --relogin`\u001b[0m to force relogin\n"
     ]
    },
    {
     "data": {
      "text/html": [
       "creating run (0.1s)"
      ],
      "text/plain": [
       "<IPython.core.display.HTML object>"
      ]
     },
     "metadata": {},
     "output_type": "display_data"
    },
    {
     "data": {
      "text/html": [
       "Tracking run with wandb version 0.21.3"
      ],
      "text/plain": [
       "<IPython.core.display.HTML object>"
      ]
     },
     "metadata": {},
     "output_type": "display_data"
    },
    {
     "data": {
      "text/html": [
       "Run data is saved locally in <code>/home/kazuki_main/rlss2025-ai-linear-function-synthesis/wandb/run-20250903_231104-zv3gd844</code>"
      ],
      "text/plain": [
       "<IPython.core.display.HTML object>"
      ]
     },
     "metadata": {},
     "output_type": "display_data"
    },
    {
     "data": {
      "text/html": [
       "Syncing run <strong><a href='https://wandb.ai/king-p3nguin-The%20University%20of%20Tokyo/ai-linear-function-synthesis/runs/zv3gd844' target=\"_blank\">run_curriculum</a></strong> to <a href='https://wandb.ai/king-p3nguin-The%20University%20of%20Tokyo/ai-linear-function-synthesis' target=\"_blank\">Weights & Biases</a> (<a href='https://wandb.me/developer-guide' target=\"_blank\">docs</a>)<br>"
      ],
      "text/plain": [
       "<IPython.core.display.HTML object>"
      ]
     },
     "metadata": {},
     "output_type": "display_data"
    },
    {
     "data": {
      "text/html": [
       " View project at <a href='https://wandb.ai/king-p3nguin-The%20University%20of%20Tokyo/ai-linear-function-synthesis' target=\"_blank\">https://wandb.ai/king-p3nguin-The%20University%20of%20Tokyo/ai-linear-function-synthesis</a>"
      ],
      "text/plain": [
       "<IPython.core.display.HTML object>"
      ]
     },
     "metadata": {},
     "output_type": "display_data"
    },
    {
     "data": {
      "text/html": [
       " View run at <a href='https://wandb.ai/king-p3nguin-The%20University%20of%20Tokyo/ai-linear-function-synthesis/runs/zv3gd844' target=\"_blank\">https://wandb.ai/king-p3nguin-The%20University%20of%20Tokyo/ai-linear-function-synthesis/runs/zv3gd844</a>"
      ],
      "text/plain": [
       "<IPython.core.display.HTML object>"
      ]
     },
     "metadata": {},
     "output_type": "display_data"
    },
    {
     "name": "stdout",
     "output_type": "stream",
     "text": [
      "Using cuda device\n",
      "Wrapping the env with a `Monitor` wrapper\n",
      "Wrapping the env in a DummyVecEnv.\n"
     ]
    },
    {
     "data": {
      "application/vnd.jupyter.widget-view+json": {
       "model_id": "df831e41c5634355a2d08ffa93101508",
       "version_major": 2,
       "version_minor": 0
      },
      "text/plain": [
       "Output()"
      ]
     },
     "metadata": {},
     "output_type": "display_data"
    },
    {
     "data": {
      "text/html": [
       "<pre style=\"white-space:pre;overflow-x:auto;line-height:normal;font-family:Menlo,'DejaVu Sans Mono',consolas,'Courier New',monospace\"></pre>\n"
      ],
      "text/plain": []
     },
     "metadata": {},
     "output_type": "display_data"
    },
    {
     "name": "stderr",
     "output_type": "stream",
     "text": [
      "/home/kazuki_main/.local/share/virtualenvs/rlss2025-ai-linear-function-synthesis-Rbs_irS0/lib/python3.12/site-packages/stable_baselines3/common/save_util.py:284: UserWarning: Path 'saved_models' does not exist. Will create it.\n",
      "  warnings.warn(f\"Path '{path.parent}' does not exist. Will create it.\")\n",
      "\u001b[34m\u001b[1mwandb\u001b[0m: \u001b[32m\u001b[41mERROR\u001b[0m The nbformat package was not found. It is required to save notebook history.\n"
     ]
    },
    {
     "data": {
      "text/html": [],
      "text/plain": [
       "<IPython.core.display.HTML object>"
      ]
     },
     "metadata": {},
     "output_type": "display_data"
    },
    {
     "data": {
      "text/html": [
       "<br>    <style><br>        .wandb-row {<br>            display: flex;<br>            flex-direction: row;<br>            flex-wrap: wrap;<br>            justify-content: flex-start;<br>            width: 100%;<br>        }<br>        .wandb-col {<br>            display: flex;<br>            flex-direction: column;<br>            flex-basis: 100%;<br>            flex: 1;<br>            padding: 10px;<br>        }<br>    </style><br><div class=\"wandb-row\"><div class=\"wandb-col\"><h3>Run history:</h3><br/><table class=\"wandb\"><tr><td>CNOT count</td><td>▁▁▁▁▁▁▁▂▁▂▂▂▃▂▂▃▂▅▃▄▄▇▃▃▃█▄▅▃▄█▅▄▅▄▄▃▃▂▅</td></tr><tr><td>Difficulty</td><td>▁▁▁▁▁▁▁▁▁▁▁▁▁▁▁▂▂▂▂▂▃▃▃▃▃▃▃▃▃▃▃▄▅▅▅▆▇▇▇█</td></tr><tr><td>Reward</td><td>██▂█▂▂▂▂▂▂▁▁▂▂▁▇▂▂▂▂▂▂▂▁▂▂▁▂▂▂▂▂▂▂▂▇▁▁▂▁</td></tr><tr><td>Success rate</td><td>▁▁▂▂▂▅▄▄▅▆▅▆▅▆▆▆▇▆▆▇▆▆▆▆▇▆▆▇▇█▇███▇█▇███</td></tr></table><br/></div><div class=\"wandb-col\"><h3>Run summary:</h3><br/><table class=\"wandb\"><tr><td>CNOT count</td><td>13</td></tr><tr><td>Reward</td><td>-0.02</td></tr><tr><td>Success rate</td><td>0.94</td></tr></table><br/></div></div>"
      ],
      "text/plain": [
       "<IPython.core.display.HTML object>"
      ]
     },
     "metadata": {},
     "output_type": "display_data"
    },
    {
     "data": {
      "text/html": [
       " View run <strong style=\"color:#cdcd00\">run_curriculum</strong> at: <a href='https://wandb.ai/king-p3nguin-The%20University%20of%20Tokyo/ai-linear-function-synthesis/runs/zv3gd844' target=\"_blank\">https://wandb.ai/king-p3nguin-The%20University%20of%20Tokyo/ai-linear-function-synthesis/runs/zv3gd844</a><br> View project at: <a href='https://wandb.ai/king-p3nguin-The%20University%20of%20Tokyo/ai-linear-function-synthesis' target=\"_blank\">https://wandb.ai/king-p3nguin-The%20University%20of%20Tokyo/ai-linear-function-synthesis</a><br>Synced 5 W&B file(s), 0 media file(s), 0 artifact file(s) and 0 other file(s)"
      ],
      "text/plain": [
       "<IPython.core.display.HTML object>"
      ]
     },
     "metadata": {},
     "output_type": "display_data"
    },
    {
     "data": {
      "text/html": [
       "Find logs at: <code>./wandb/run-20250903_231104-zv3gd844/logs</code>"
      ],
      "text/plain": [
       "<IPython.core.display.HTML object>"
      ]
     },
     "metadata": {},
     "output_type": "display_data"
    }
   ],
   "source": [
    "wandb.init(\n",
    "    project=\"ai-linear-function-synthesis\",\n",
    "    name=\"run_curriculum\",\n",
    "    config=config,\n",
    ")\n",
    "\n",
    "\n",
    "env = AILinearFunctionSynthesis(\n",
    "    coupling_map=COUPLING_MAP,\n",
    "    eval_batch_size=BATCH_SIZE,\n",
    "    success_rate_threshold=SUCCESS_RATE_THRESHOLD,\n",
    "    wandb_log=True,\n",
    ")\n",
    "\n",
    "# Initialize the model\n",
    "model = model_class(\n",
    "    policy=\"CnnPolicy\",\n",
    "    env=env,\n",
    "    verbose=1,\n",
    "    policy_kwargs=dict(\n",
    "        features_extractor_class=CustomCNN,\n",
    "        features_extractor_kwargs=dict(features_dim=64),\n",
    "    ),\n",
    "    device=device_name,\n",
    ")\n",
    "\n",
    "# Train the model\n",
    "model.learn(\n",
    "    total_timesteps=NUM_TIME_STEPS,\n",
    "    log_interval=10**5,\n",
    "    progress_bar=True,\n",
    ")\n",
    "\n",
    "model.save(\"saved_models/lin_func_curriculum\")\n",
    "\n",
    "wandb.finish()"
   ]
  },
  {
   "cell_type": "markdown",
   "id": "e5f2324f",
   "metadata": {},
   "source": [
    "## No curriculum learning + sparse reward"
   ]
  },
  {
   "cell_type": "code",
   "execution_count": 7,
   "id": "330760c8",
   "metadata": {},
   "outputs": [
    {
     "data": {
      "text/html": [
       "creating run (0.2s)"
      ],
      "text/plain": [
       "<IPython.core.display.HTML object>"
      ]
     },
     "metadata": {},
     "output_type": "display_data"
    },
    {
     "data": {
      "text/html": [
       "Tracking run with wandb version 0.21.3"
      ],
      "text/plain": [
       "<IPython.core.display.HTML object>"
      ]
     },
     "metadata": {},
     "output_type": "display_data"
    },
    {
     "data": {
      "text/html": [
       "Run data is saved locally in <code>/home/kazuki_main/rlss2025-ai-linear-function-synthesis/wandb/run-20250904_000524-o7f3lnij</code>"
      ],
      "text/plain": [
       "<IPython.core.display.HTML object>"
      ]
     },
     "metadata": {},
     "output_type": "display_data"
    },
    {
     "data": {
      "text/html": [
       "Syncing run <strong><a href='https://wandb.ai/king-p3nguin-The%20University%20of%20Tokyo/ai-linear-function-synthesis/runs/o7f3lnij' target=\"_blank\">run_no_curriculum</a></strong> to <a href='https://wandb.ai/king-p3nguin-The%20University%20of%20Tokyo/ai-linear-function-synthesis' target=\"_blank\">Weights & Biases</a> (<a href='https://wandb.me/developer-guide' target=\"_blank\">docs</a>)<br>"
      ],
      "text/plain": [
       "<IPython.core.display.HTML object>"
      ]
     },
     "metadata": {},
     "output_type": "display_data"
    },
    {
     "data": {
      "text/html": [
       " View project at <a href='https://wandb.ai/king-p3nguin-The%20University%20of%20Tokyo/ai-linear-function-synthesis' target=\"_blank\">https://wandb.ai/king-p3nguin-The%20University%20of%20Tokyo/ai-linear-function-synthesis</a>"
      ],
      "text/plain": [
       "<IPython.core.display.HTML object>"
      ]
     },
     "metadata": {},
     "output_type": "display_data"
    },
    {
     "data": {
      "text/html": [
       " View run at <a href='https://wandb.ai/king-p3nguin-The%20University%20of%20Tokyo/ai-linear-function-synthesis/runs/o7f3lnij' target=\"_blank\">https://wandb.ai/king-p3nguin-The%20University%20of%20Tokyo/ai-linear-function-synthesis/runs/o7f3lnij</a>"
      ],
      "text/plain": [
       "<IPython.core.display.HTML object>"
      ]
     },
     "metadata": {},
     "output_type": "display_data"
    },
    {
     "data": {
      "application/vnd.jupyter.widget-view+json": {
       "model_id": "57a1a6c1a2c64f3c964cc7dd6b2129ce",
       "version_major": 2,
       "version_minor": 0
      },
      "text/plain": [
       "Output()"
      ]
     },
     "metadata": {},
     "output_type": "display_data"
    },
    {
     "name": "stdout",
     "output_type": "stream",
     "text": [
      "Using cuda device\n",
      "Wrapping the env with a `Monitor` wrapper\n",
      "Wrapping the env in a DummyVecEnv.\n"
     ]
    },
    {
     "data": {
      "text/html": [
       "<pre style=\"white-space:pre;overflow-x:auto;line-height:normal;font-family:Menlo,'DejaVu Sans Mono',consolas,'Courier New',monospace\"></pre>\n"
      ],
      "text/plain": []
     },
     "metadata": {},
     "output_type": "display_data"
    },
    {
     "name": "stderr",
     "output_type": "stream",
     "text": [
      "\u001b[34m\u001b[1mwandb\u001b[0m: \u001b[32m\u001b[41mERROR\u001b[0m The nbformat package was not found. It is required to save notebook history.\n"
     ]
    },
    {
     "data": {
      "text/html": [],
      "text/plain": [
       "<IPython.core.display.HTML object>"
      ]
     },
     "metadata": {},
     "output_type": "display_data"
    },
    {
     "data": {
      "text/html": [
       "<br>    <style><br>        .wandb-row {<br>            display: flex;<br>            flex-direction: row;<br>            flex-wrap: wrap;<br>            justify-content: flex-start;<br>            width: 100%;<br>        }<br>        .wandb-col {<br>            display: flex;<br>            flex-direction: column;<br>            flex-basis: 100%;<br>            flex: 1;<br>            padding: 10px;<br>        }<br>    </style><br><div class=\"wandb-row\"><div class=\"wandb-col\"><h3>Run history:</h3><br/><table class=\"wandb\"><tr><td>CNOT count</td><td>▁▁▁▁▁▁▁▁▁▁▁▁▁▁▁▁▁▁▁▁▁▁▁▁▁▁▁▁▁▁▁▁▁▁▁▁▁▁▁▁</td></tr><tr><td>Reward</td><td>▁▄▄▆▃█▆▃▁▄▆▄▅█▂▇▁▆▆▆▃█▁█▂▁▆▇▁▃▁▆▂▇▇▁▇▁▆▇</td></tr><tr><td>Success rate</td><td>▁▁▁▁▁▁▁▁▁▁▁▁▁▁▁▁▁▁▁▁▁▁▁█▁▁▁▁▁▁▁▁▁▁▁▁▁▁▁▁</td></tr></table><br/></div><div class=\"wandb-col\"><h3>Run summary:</h3><br/><table class=\"wandb\"><tr><td>CNOT count</td><td>25</td></tr><tr><td>Reward</td><td>-0.21</td></tr><tr><td>Success rate</td><td>0</td></tr></table><br/></div></div>"
      ],
      "text/plain": [
       "<IPython.core.display.HTML object>"
      ]
     },
     "metadata": {},
     "output_type": "display_data"
    },
    {
     "data": {
      "text/html": [
       " View run <strong style=\"color:#cdcd00\">run_no_curriculum</strong> at: <a href='https://wandb.ai/king-p3nguin-The%20University%20of%20Tokyo/ai-linear-function-synthesis/runs/o7f3lnij' target=\"_blank\">https://wandb.ai/king-p3nguin-The%20University%20of%20Tokyo/ai-linear-function-synthesis/runs/o7f3lnij</a><br> View project at: <a href='https://wandb.ai/king-p3nguin-The%20University%20of%20Tokyo/ai-linear-function-synthesis' target=\"_blank\">https://wandb.ai/king-p3nguin-The%20University%20of%20Tokyo/ai-linear-function-synthesis</a><br>Synced 5 W&B file(s), 0 media file(s), 0 artifact file(s) and 0 other file(s)"
      ],
      "text/plain": [
       "<IPython.core.display.HTML object>"
      ]
     },
     "metadata": {},
     "output_type": "display_data"
    },
    {
     "data": {
      "text/html": [
       "Find logs at: <code>./wandb/run-20250904_000524-o7f3lnij/logs</code>"
      ],
      "text/plain": [
       "<IPython.core.display.HTML object>"
      ]
     },
     "metadata": {},
     "output_type": "display_data"
    }
   ],
   "source": [
    "wandb.init(\n",
    "    project=\"ai-linear-function-synthesis\",\n",
    "    name=\"run_no_curriculum\",\n",
    "    config=config,\n",
    ")\n",
    "\n",
    "\n",
    "env = AILinearFunctionSynthesisNoCurriculumLearning(\n",
    "    coupling_map=COUPLING_MAP,\n",
    "    eval_batch_size=BATCH_SIZE,\n",
    "    wandb_log=True,\n",
    ")\n",
    "\n",
    "# Initialize the model\n",
    "model = model_class(\n",
    "    policy=\"CnnPolicy\",\n",
    "    env=env,\n",
    "    verbose=1,\n",
    "    policy_kwargs=dict(\n",
    "        features_extractor_class=CustomCNN,\n",
    "        features_extractor_kwargs=dict(features_dim=64),\n",
    "    ),\n",
    "    device=device_name,\n",
    ")\n",
    "\n",
    "# Train the model\n",
    "model.learn(\n",
    "    total_timesteps=NUM_TIME_STEPS,\n",
    "    log_interval=10**5,\n",
    "    progress_bar=True,\n",
    ")\n",
    "\n",
    "model.save(\"saved_models/lin_func_no_curriculum\")\n",
    "\n",
    "wandb.finish()"
   ]
  },
  {
   "cell_type": "markdown",
   "id": "f02c0978",
   "metadata": {},
   "source": [
    "## Curriculum learning + dense reward"
   ]
  },
  {
   "cell_type": "code",
   "execution_count": 8,
   "id": "65feec29",
   "metadata": {},
   "outputs": [
    {
     "data": {
      "text/html": [
       "creating run (0.7s)"
      ],
      "text/plain": [
       "<IPython.core.display.HTML object>"
      ]
     },
     "metadata": {},
     "output_type": "display_data"
    },
    {
     "data": {
      "text/html": [
       "Tracking run with wandb version 0.21.3"
      ],
      "text/plain": [
       "<IPython.core.display.HTML object>"
      ]
     },
     "metadata": {},
     "output_type": "display_data"
    },
    {
     "data": {
      "text/html": [
       "Run data is saved locally in <code>/home/kazuki_main/rlss2025-ai-linear-function-synthesis/wandb/run-20250904_005955-fuarxq3f</code>"
      ],
      "text/plain": [
       "<IPython.core.display.HTML object>"
      ]
     },
     "metadata": {},
     "output_type": "display_data"
    },
    {
     "data": {
      "text/html": [
       "Syncing run <strong><a href='https://wandb.ai/king-p3nguin-The%20University%20of%20Tokyo/ai-linear-function-synthesis/runs/fuarxq3f' target=\"_blank\">run_dense</a></strong> to <a href='https://wandb.ai/king-p3nguin-The%20University%20of%20Tokyo/ai-linear-function-synthesis' target=\"_blank\">Weights & Biases</a> (<a href='https://wandb.me/developer-guide' target=\"_blank\">docs</a>)<br>"
      ],
      "text/plain": [
       "<IPython.core.display.HTML object>"
      ]
     },
     "metadata": {},
     "output_type": "display_data"
    },
    {
     "data": {
      "text/html": [
       " View project at <a href='https://wandb.ai/king-p3nguin-The%20University%20of%20Tokyo/ai-linear-function-synthesis' target=\"_blank\">https://wandb.ai/king-p3nguin-The%20University%20of%20Tokyo/ai-linear-function-synthesis</a>"
      ],
      "text/plain": [
       "<IPython.core.display.HTML object>"
      ]
     },
     "metadata": {},
     "output_type": "display_data"
    },
    {
     "data": {
      "text/html": [
       " View run at <a href='https://wandb.ai/king-p3nguin-The%20University%20of%20Tokyo/ai-linear-function-synthesis/runs/fuarxq3f' target=\"_blank\">https://wandb.ai/king-p3nguin-The%20University%20of%20Tokyo/ai-linear-function-synthesis/runs/fuarxq3f</a>"
      ],
      "text/plain": [
       "<IPython.core.display.HTML object>"
      ]
     },
     "metadata": {},
     "output_type": "display_data"
    },
    {
     "data": {
      "application/vnd.jupyter.widget-view+json": {
       "model_id": "20f599419d674a27ac070f48d4a685c4",
       "version_major": 2,
       "version_minor": 0
      },
      "text/plain": [
       "Output()"
      ]
     },
     "metadata": {},
     "output_type": "display_data"
    },
    {
     "name": "stdout",
     "output_type": "stream",
     "text": [
      "Using cuda device\n",
      "Wrapping the env with a `Monitor` wrapper\n",
      "Wrapping the env in a DummyVecEnv.\n"
     ]
    },
    {
     "data": {
      "text/html": [
       "<pre style=\"white-space:pre;overflow-x:auto;line-height:normal;font-family:Menlo,'DejaVu Sans Mono',consolas,'Courier New',monospace\"></pre>\n"
      ],
      "text/plain": []
     },
     "metadata": {},
     "output_type": "display_data"
    },
    {
     "name": "stderr",
     "output_type": "stream",
     "text": [
      "\u001b[34m\u001b[1mwandb\u001b[0m: \u001b[32m\u001b[41mERROR\u001b[0m The nbformat package was not found. It is required to save notebook history.\n"
     ]
    },
    {
     "data": {
      "text/html": [],
      "text/plain": [
       "<IPython.core.display.HTML object>"
      ]
     },
     "metadata": {},
     "output_type": "display_data"
    },
    {
     "data": {
      "text/html": [
       "<br>    <style><br>        .wandb-row {<br>            display: flex;<br>            flex-direction: row;<br>            flex-wrap: wrap;<br>            justify-content: flex-start;<br>            width: 100%;<br>        }<br>        .wandb-col {<br>            display: flex;<br>            flex-direction: column;<br>            flex-basis: 100%;<br>            flex: 1;<br>            padding: 10px;<br>        }<br>    </style><br><div class=\"wandb-row\"><div class=\"wandb-col\"><h3>Run history:</h3><br/><table class=\"wandb\"><tr><td>CNOT count</td><td>▁▁▁▂▂▄▂▄▅▅▅▂▆▆▅▆▇▇▇▅▆▂▅▇▅▇▇▂▇▇▇▄▄▇▇▂▇▇█▅</td></tr><tr><td>Difficulty</td><td>▁▁▁▁▂▄▅▅▅▅▅▅▆▇▇▇▇▇▇▇▇▇▇▇▇▇▇▇▇▇▇▇▇▇▇█████</td></tr><tr><td>Reward</td><td>██▆▄▇▂▄█▇▅▇▄▇▅▇█▇█▇▇█▃▆▁▁▇▇▇▇▄▇▅▇▂▄▂█▇▃▄</td></tr><tr><td>Success rate</td><td>▁▁▁▁▂▃▆███▇▇▇▆▇▅▆▆▆▇▇▆▅▆▅▆▆▆▆▆▇▇█▇▆▇▇▇█▇</td></tr></table><br/></div><div class=\"wandb-col\"><h3>Run summary:</h3><br/><table class=\"wandb\"><tr><td>CNOT count</td><td>9</td></tr><tr><td>Difficulty</td><td>9</td></tr><tr><td>Reward</td><td>-1.06</td></tr><tr><td>Success rate</td><td>0.71</td></tr></table><br/></div></div>"
      ],
      "text/plain": [
       "<IPython.core.display.HTML object>"
      ]
     },
     "metadata": {},
     "output_type": "display_data"
    },
    {
     "data": {
      "text/html": [
       " View run <strong style=\"color:#cdcd00\">run_dense</strong> at: <a href='https://wandb.ai/king-p3nguin-The%20University%20of%20Tokyo/ai-linear-function-synthesis/runs/fuarxq3f' target=\"_blank\">https://wandb.ai/king-p3nguin-The%20University%20of%20Tokyo/ai-linear-function-synthesis/runs/fuarxq3f</a><br> View project at: <a href='https://wandb.ai/king-p3nguin-The%20University%20of%20Tokyo/ai-linear-function-synthesis' target=\"_blank\">https://wandb.ai/king-p3nguin-The%20University%20of%20Tokyo/ai-linear-function-synthesis</a><br>Synced 5 W&B file(s), 0 media file(s), 0 artifact file(s) and 0 other file(s)"
      ],
      "text/plain": [
       "<IPython.core.display.HTML object>"
      ]
     },
     "metadata": {},
     "output_type": "display_data"
    },
    {
     "data": {
      "text/html": [
       "Find logs at: <code>./wandb/run-20250904_005955-fuarxq3f/logs</code>"
      ],
      "text/plain": [
       "<IPython.core.display.HTML object>"
      ]
     },
     "metadata": {},
     "output_type": "display_data"
    }
   ],
   "source": [
    "wandb.init(\n",
    "    project=\"ai-linear-function-synthesis\",\n",
    "    name=\"run_dense\",\n",
    "    config=config,\n",
    ")\n",
    "\n",
    "\n",
    "env = AILinearFunctionSynthesisDenseReward(\n",
    "    coupling_map=COUPLING_MAP,\n",
    "    eval_batch_size=BATCH_SIZE,\n",
    "    success_rate_threshold=SUCCESS_RATE_THRESHOLD,\n",
    "    wandb_log=True,\n",
    ")\n",
    "\n",
    "# Initialize the model\n",
    "model = model_class(\n",
    "    policy=\"CnnPolicy\",\n",
    "    env=env,\n",
    "    verbose=1,\n",
    "    policy_kwargs=dict(\n",
    "        features_extractor_class=CustomCNN,\n",
    "        features_extractor_kwargs=dict(features_dim=64),\n",
    "    ),\n",
    "    device=device_name,\n",
    ")\n",
    "\n",
    "# Train the model\n",
    "model.learn(\n",
    "    total_timesteps=NUM_TIME_STEPS,\n",
    "    log_interval=10**5,\n",
    "    progress_bar=True,\n",
    ")\n",
    "\n",
    "model.save(\"saved_models/lin_func_dense\")\n",
    "\n",
    "wandb.finish()"
   ]
  }
 ],
 "metadata": {
  "kernelspec": {
   "display_name": "rlss2025-ai-linear-function-synthesis-Rbs_irS0",
   "language": "python",
   "name": "python3"
  },
  "language_info": {
   "codemirror_mode": {
    "name": "ipython",
    "version": 3
   },
   "file_extension": ".py",
   "mimetype": "text/x-python",
   "name": "python",
   "nbconvert_exporter": "python",
   "pygments_lexer": "ipython3",
   "version": "3.12.10"
  }
 },
 "nbformat": 4,
 "nbformat_minor": 5
}
